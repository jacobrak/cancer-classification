{
 "cells": [
  {
   "cell_type": "code",
   "execution_count": 1,
   "id": "25088680-ca6a-4e29-a00b-4be5ad1401b1",
   "metadata": {},
   "outputs": [],
   "source": [
    "import pandas as pd\n",
    "import numpy as np\n",
    "from sklearn.preprocessing import StandardScaler\n",
    "from sklearn.linear_model import Lasso\n",
    "from sklearn.model_selection import train_test_split\n",
    "from sklearn.decomposition import PCA\n",
    "from sklearn.linear_model import LogisticRegression\n",
    "from sklearn.metrics import accuracy_score, precision_score, recall_score, f1_score\n",
    "from sklearn.naive_bayes import GaussianNB\n",
    "from sklearn.ensemble import RandomForestClassifier\n",
    "from sklearn import tree\n",
    "from sklearn import svm"
   ]
  },
  {
   "cell_type": "code",
   "execution_count": 2,
   "id": "8c3904db-6673-4129-b02c-8a628f1b9386",
   "metadata": {},
   "outputs": [],
   "source": [
    "df = pd.DataFrame(pd.read_csv(\"cancer_classification.csv\"))"
   ]
  },
  {
   "cell_type": "code",
   "execution_count": 3,
   "id": "5a325c85-c672-4853-86cb-7788be6ed8ed",
   "metadata": {},
   "outputs": [],
   "source": [
    "def evaluate_model(model, X_train, X_test, y_train, y_test):\n",
    "    model.fit(X_train, y_train)\n",
    "\n",
    "    y_pred = model.predict(X_test)\n",
    "\n",
    "    accuracy = accuracy_score(y_test, y_pred)\n",
    "    precision = precision_score(y_test, y_pred)\n",
    "    recall = recall_score(y_test, y_pred)\n",
    "    f1 = f1_score(y_test, y_pred)\n",
    "\n",
    "    print(\"Accuracy:\", accuracy)\n",
    "    print(\"Precision:\", precision)\n",
    "    print(\"Recall:\", recall)\n",
    "    print(\"F1 Score:\", f1)\n",
    "\n",
    "    return accuracy, precision, recall, f1"
   ]
  },
  {
   "cell_type": "markdown",
   "id": "5b863b0c-fbd2-47e2-a192-d6fb617206e2",
   "metadata": {},
   "source": [
    "## Test and Traindata"
   ]
  },
  {
   "cell_type": "code",
   "execution_count": 4,
   "id": "bd11e209-fed7-4834-8f4b-142f22cbd24d",
   "metadata": {},
   "outputs": [],
   "source": [
    "features = df.iloc[:, :-1].values\n",
    "X = features\n",
    "y = df[\"benign_0__mal_1\"].values\n",
    "\n",
    "X_train, X_test, y_train, y_test = train_test_split(X, y , test_size=0.25, random_state=1337)"
   ]
  },
  {
   "cell_type": "markdown",
   "id": "65ee05ca-d597-46bd-8d97-0c2a7dbde6b7",
   "metadata": {},
   "source": [
    "## Logistic Regression"
   ]
  },
  {
   "cell_type": "code",
   "execution_count": 5,
   "id": "6a171899-3683-4427-b551-7b2f555b7ac2",
   "metadata": {},
   "outputs": [
    {
     "name": "stdout",
     "output_type": "stream",
     "text": [
      "Accuracy: 0.958041958041958\n",
      "Precision: 0.9473684210526315\n",
      "Recall: 0.989010989010989\n",
      "F1 Score: 0.967741935483871\n"
     ]
    },
    {
     "data": {
      "text/plain": [
       "(0.958041958041958, 0.9473684210526315, 0.989010989010989, 0.967741935483871)"
      ]
     },
     "execution_count": 5,
     "metadata": {},
     "output_type": "execute_result"
    }
   ],
   "source": [
    "model = LogisticRegression(random_state=1337, max_iter=10000)\n",
    "evaluate_model(model, X_train, X_test, y_train, y_test)"
   ]
  },
  {
   "cell_type": "markdown",
   "id": "56260ce9-e2e0-4a78-9589-064865f62923",
   "metadata": {},
   "source": [
    "## Naive Bayes"
   ]
  },
  {
   "cell_type": "code",
   "execution_count": 6,
   "id": "49738872-874d-4cef-8930-29fe85f296b3",
   "metadata": {},
   "outputs": [
    {
     "name": "stdout",
     "output_type": "stream",
     "text": [
      "Accuracy: 0.9440559440559441\n",
      "Precision: 0.9368421052631579\n",
      "Recall: 0.978021978021978\n",
      "F1 Score: 0.956989247311828\n"
     ]
    },
    {
     "data": {
      "text/plain": [
       "(0.9440559440559441, 0.9368421052631579, 0.978021978021978, 0.956989247311828)"
      ]
     },
     "execution_count": 6,
     "metadata": {},
     "output_type": "execute_result"
    }
   ],
   "source": [
    "model = GaussianNB()\n",
    "evaluate_model(model, X_train, X_test, y_train, y_test)"
   ]
  },
  {
   "cell_type": "markdown",
   "id": "5f52b4cf-a549-431c-a044-acef0b8174b4",
   "metadata": {},
   "source": [
    "## Random forest"
   ]
  },
  {
   "cell_type": "code",
   "execution_count": 7,
   "id": "c4c6cf21-8e5a-45b0-a1f8-a0485b3775d3",
   "metadata": {},
   "outputs": [
    {
     "name": "stdout",
     "output_type": "stream",
     "text": [
      "Accuracy: 0.951048951048951\n",
      "Precision: 0.9666666666666667\n",
      "Recall: 0.9560439560439561\n",
      "F1 Score: 0.9613259668508287\n"
     ]
    },
    {
     "data": {
      "text/plain": [
       "(0.951048951048951, 0.9666666666666667, 0.9560439560439561, 0.9613259668508287)"
      ]
     },
     "execution_count": 7,
     "metadata": {},
     "output_type": "execute_result"
    }
   ],
   "source": [
    "model = RandomForestClassifier(random_state=1337)\n",
    "evaluate_model(model, X_train, X_test, y_train, y_test)"
   ]
  },
  {
   "cell_type": "markdown",
   "id": "24782902-6394-4a12-b18e-dda00682781c",
   "metadata": {},
   "source": [
    "## Tree"
   ]
  },
  {
   "cell_type": "code",
   "execution_count": 8,
   "id": "22d49acc-e134-41a6-b0d8-18e43c13762c",
   "metadata": {},
   "outputs": [
    {
     "name": "stdout",
     "output_type": "stream",
     "text": [
      "Accuracy: 0.9090909090909091\n",
      "Precision: 0.9431818181818182\n",
      "Recall: 0.9120879120879121\n",
      "F1 Score: 0.9273743016759777\n"
     ]
    },
    {
     "data": {
      "text/plain": [
       "(0.9090909090909091,\n",
       " 0.9431818181818182,\n",
       " 0.9120879120879121,\n",
       " 0.9273743016759777)"
      ]
     },
     "execution_count": 8,
     "metadata": {},
     "output_type": "execute_result"
    }
   ],
   "source": [
    "model = tree.DecisionTreeClassifier(random_state=1337)\n",
    "evaluate_model(model, X_train, X_test, y_train, y_test)"
   ]
  },
  {
   "cell_type": "markdown",
   "id": "8de5d760-10d9-40b4-bc9e-4dc74cdb63d7",
   "metadata": {},
   "source": [
    "## With PCA and L1 Regularization "
   ]
  },
  {
   "cell_type": "code",
   "execution_count": 9,
   "id": "601c427e-da14-4099-aaf4-6c951c7533b4",
   "metadata": {},
   "outputs": [],
   "source": [
    "features = df.iloc[:, :-1].values\n",
    "y = df[\"benign_0__mal_1\"].values\n",
    "X = features\n",
    "\n",
    "lasso_reg = Lasso(alpha=0.1)  \n",
    "\n",
    "lasso_reg.fit(X, y)\n",
    "\n",
    "selected_features = X[:, lasso_reg.coef_ != 0]\n",
    "\n",
    "pca = PCA(n_components=5) \n",
    "pca.fit(selected_features)\n",
    "pca_df = pd.DataFrame(pca.transform(selected_features))\n",
    "pca_df[\"benign_0__mal_1\"] = df[\"benign_0__mal_1\"].values\n",
    "\n",
    "\n"
   ]
  },
  {
   "cell_type": "markdown",
   "id": "d3451db2-8a90-46e2-9922-254a995e0c3e",
   "metadata": {},
   "source": [
    "## Test and Traindata"
   ]
  },
  {
   "cell_type": "code",
   "execution_count": 10,
   "id": "c9be623c-0539-4c04-964b-799e0b526c74",
   "metadata": {},
   "outputs": [],
   "source": [
    "y = pca_df[\"benign_0__mal_1\"].values\n",
    "X = pca_df.iloc[:, :-1].values\n",
    "\n",
    "X_train, X_test, y_train, y_test = train_test_split(X, y , test_size=0.25, random_state=1337)"
   ]
  },
  {
   "cell_type": "markdown",
   "id": "01786756-b125-48c4-9219-deab8764490d",
   "metadata": {},
   "source": [
    "## Logistic Regression"
   ]
  },
  {
   "cell_type": "code",
   "execution_count": 11,
   "id": "53304b09-292d-45da-9cc5-bc190a9448d5",
   "metadata": {},
   "outputs": [
    {
     "name": "stdout",
     "output_type": "stream",
     "text": [
      "Accuracy: 0.9440559440559441\n",
      "Precision: 0.9278350515463918\n",
      "Recall: 0.989010989010989\n",
      "F1 Score: 0.9574468085106383\n"
     ]
    },
    {
     "data": {
      "text/plain": [
       "(0.9440559440559441, 0.9278350515463918, 0.989010989010989, 0.9574468085106383)"
      ]
     },
     "execution_count": 11,
     "metadata": {},
     "output_type": "execute_result"
    }
   ],
   "source": [
    "model = LogisticRegression(random_state=1337, max_iter=10000)\n",
    "evaluate_model(model, X_train, X_test, y_train, y_test)"
   ]
  },
  {
   "cell_type": "markdown",
   "id": "8d3cdff6-7030-4001-bf4d-8b7bcc79f00b",
   "metadata": {},
   "source": [
    "## Naive Bayes"
   ]
  },
  {
   "cell_type": "code",
   "execution_count": 12,
   "id": "99fb24ad-b15c-4cc4-83da-bdd494166ec5",
   "metadata": {},
   "outputs": [
    {
     "name": "stdout",
     "output_type": "stream",
     "text": [
      "Accuracy: 0.951048951048951\n",
      "Precision: 0.9375\n",
      "Recall: 0.989010989010989\n",
      "F1 Score: 0.9625668449197861\n"
     ]
    },
    {
     "data": {
      "text/plain": [
       "(0.951048951048951, 0.9375, 0.989010989010989, 0.9625668449197861)"
      ]
     },
     "execution_count": 12,
     "metadata": {},
     "output_type": "execute_result"
    }
   ],
   "source": [
    "model = GaussianNB()\n",
    "evaluate_model(model, X_train, X_test, y_train, y_test)"
   ]
  },
  {
   "cell_type": "markdown",
   "id": "fe3d20bd-64e9-4d96-9be5-27bf4c855722",
   "metadata": {},
   "source": [
    "## Random forest"
   ]
  },
  {
   "cell_type": "code",
   "execution_count": 13,
   "id": "426ceed7-5223-4efe-b3e1-0b92894c3a66",
   "metadata": {},
   "outputs": [
    {
     "name": "stdout",
     "output_type": "stream",
     "text": [
      "Accuracy: 0.9790209790209791\n",
      "Precision: 0.9782608695652174\n",
      "Recall: 0.989010989010989\n",
      "F1 Score: 0.9836065573770492\n"
     ]
    },
    {
     "data": {
      "text/plain": [
       "(0.9790209790209791, 0.9782608695652174, 0.989010989010989, 0.9836065573770492)"
      ]
     },
     "execution_count": 13,
     "metadata": {},
     "output_type": "execute_result"
    }
   ],
   "source": [
    "model = RandomForestClassifier(random_state=1337)\n",
    "evaluate_model(model, X_train, X_test, y_train, y_test)"
   ]
  },
  {
   "cell_type": "markdown",
   "id": "679db82d-831d-402a-a471-01f283982a1a",
   "metadata": {},
   "source": [
    "## Tree"
   ]
  },
  {
   "cell_type": "code",
   "execution_count": 14,
   "id": "a06e34d6-dfe9-467c-8dc7-43cc55148400",
   "metadata": {},
   "outputs": [
    {
     "name": "stdout",
     "output_type": "stream",
     "text": [
      "Accuracy: 0.9370629370629371\n",
      "Precision: 0.9270833333333334\n",
      "Recall: 0.978021978021978\n",
      "F1 Score: 0.9518716577540107\n"
     ]
    },
    {
     "data": {
      "text/plain": [
       "(0.9370629370629371, 0.9270833333333334, 0.978021978021978, 0.9518716577540107)"
      ]
     },
     "execution_count": 14,
     "metadata": {},
     "output_type": "execute_result"
    }
   ],
   "source": [
    "model = tree.DecisionTreeClassifier(random_state=1337)\n",
    "evaluate_model(model, X_train, X_test, y_train, y_test)"
   ]
  },
  {
   "cell_type": "markdown",
   "id": "e648cbfa-f010-4e43-bd0e-c5a875a2a275",
   "metadata": {},
   "source": [
    "## Test_size = 0.3"
   ]
  },
  {
   "cell_type": "code",
   "execution_count": 15,
   "id": "4f2eee93-e769-4483-a25f-15ecac448aac",
   "metadata": {},
   "outputs": [
    {
     "name": "stdout",
     "output_type": "stream",
     "text": [
      "Accuracy: 0.9532163742690059\n",
      "Precision: 0.9391304347826087\n",
      "Recall: 0.9908256880733946\n",
      "F1 Score: 0.9642857142857143\n",
      "Accuracy: 0.9532163742690059\n",
      "Precision: 0.9391304347826087\n",
      "Recall: 0.9908256880733946\n",
      "F1 Score: 0.9642857142857143\n",
      "Accuracy: 0.9766081871345029\n",
      "Precision: 0.972972972972973\n",
      "Recall: 0.9908256880733946\n",
      "F1 Score: 0.9818181818181818\n",
      "Accuracy: 0.9415204678362573\n",
      "Precision: 0.9459459459459459\n",
      "Recall: 0.963302752293578\n",
      "F1 Score: 0.9545454545454546\n"
     ]
    },
    {
     "data": {
      "text/plain": [
       "(0.9415204678362573, 0.9459459459459459, 0.963302752293578, 0.9545454545454546)"
      ]
     },
     "execution_count": 15,
     "metadata": {},
     "output_type": "execute_result"
    }
   ],
   "source": [
    "X_train, X_test, y_train, y_test = train_test_split(X, y , test_size=0.3, random_state=1337)\n",
    "\n",
    "model = LogisticRegression(random_state=1337, max_iter=10000)\n",
    "evaluate_model(model, X_train, X_test, y_train, y_test)\n",
    "\n",
    "model = GaussianNB()\n",
    "evaluate_model(model, X_train, X_test, y_train, y_test)\n",
    "\n",
    "model = RandomForestClassifier(random_state=1337)\n",
    "evaluate_model(model, X_train, X_test, y_train, y_test)\n",
    "\n",
    "model = tree.DecisionTreeClassifier(random_state=1337)\n",
    "evaluate_model(model, X_train, X_test, y_train, y_test)"
   ]
  },
  {
   "cell_type": "markdown",
   "id": "b7064a43-aef4-4e2c-8078-2da2e1194bcb",
   "metadata": {},
   "source": [
    "## Test_size = 0.9"
   ]
  },
  {
   "cell_type": "code",
   "execution_count": 16,
   "id": "9237b3ed-3bee-4876-90c2-f2c46a3ce804",
   "metadata": {},
   "outputs": [
    {
     "name": "stdout",
     "output_type": "stream",
     "text": [
      "Accuracy: 0.9298245614035088\n",
      "Precision: 0.9525316455696202\n",
      "Recall: 0.9347826086956522\n",
      "F1 Score: 0.9435736677115988\n",
      "Accuracy: 0.9220272904483431\n",
      "Precision: 0.9221556886227545\n",
      "Recall: 0.9565217391304348\n",
      "F1 Score: 0.9390243902439024\n",
      "Accuracy: 0.9005847953216374\n",
      "Precision: 0.9385113268608414\n",
      "Recall: 0.9006211180124224\n",
      "F1 Score: 0.919175911251981\n",
      "Accuracy: 0.9025341130604289\n",
      "Precision: 0.9276729559748428\n",
      "Recall: 0.9161490683229814\n",
      "F1 Score: 0.921875\n"
     ]
    },
    {
     "data": {
      "text/plain": [
       "(0.9025341130604289, 0.9276729559748428, 0.9161490683229814, 0.921875)"
      ]
     },
     "execution_count": 16,
     "metadata": {},
     "output_type": "execute_result"
    }
   ],
   "source": [
    "X_train, X_test, y_train, y_test = train_test_split(X, y , test_size=0.9, random_state=1337)\n",
    "\n",
    "model = LogisticRegression(random_state=1337, max_iter=10000)\n",
    "evaluate_model(model, X_train, X_test, y_train, y_test)\n",
    "\n",
    "model = GaussianNB()\n",
    "evaluate_model(model, X_train, X_test, y_train, y_test)\n",
    "\n",
    "model = RandomForestClassifier(random_state=1337)\n",
    "evaluate_model(model, X_train, X_test, y_train, y_test)\n",
    "\n",
    "model = tree.DecisionTreeClassifier(random_state=1337)\n",
    "evaluate_model(model, X_train, X_test, y_train, y_test)"
   ]
  },
  {
   "cell_type": "markdown",
   "id": "06a76b92-c731-43f1-ba18-36bb81c2ff06",
   "metadata": {},
   "source": [
    "## PCA for SVM"
   ]
  },
  {
   "cell_type": "code",
   "execution_count": 17,
   "id": "e8e625bd-9cac-4218-b8da-5c592fafa105",
   "metadata": {},
   "outputs": [],
   "source": [
    "features = df.iloc[:, :-1].values\n",
    "y = df[\"benign_0__mal_1\"].values\n",
    "X = features\n",
    "\n",
    "lasso_reg = Lasso(alpha=0.1)  \n",
    "\n",
    "lasso_reg.fit(X, y)\n",
    "\n",
    "selected_features = X[:, lasso_reg.coef_ != 0]\n",
    "\n",
    "pca = PCA(n_components=4) \n",
    "pca.fit(selected_features)\n",
    "pca_svm_df = pd.DataFrame(pca.transform(selected_features))\n",
    "pca_svm_df[\"benign_0__mal_1\"] = df[\"benign_0__mal_1\"].values\n"
   ]
  },
  {
   "cell_type": "markdown",
   "id": "c36890d9-7137-45f4-a57c-6f7456925e4c",
   "metadata": {},
   "source": [
    "## Test and Traindata"
   ]
  },
  {
   "cell_type": "code",
   "execution_count": 18,
   "id": "733e427e-dc09-4669-b4f7-af6b7b2d0748",
   "metadata": {},
   "outputs": [],
   "source": [
    "y = pca_svm_df[\"benign_0__mal_1\"].values\n",
    "X = pca_svm_df.iloc[:, :-1].values\n",
    "\n",
    "X_train, X_test, y_train, y_test = train_test_split(X, y , test_size=0.25, random_state=1337)"
   ]
  },
  {
   "cell_type": "markdown",
   "id": "dd844eee-5a3e-40d3-a646-bb90671c7610",
   "metadata": {},
   "source": [
    "## SVM"
   ]
  },
  {
   "cell_type": "code",
   "execution_count": 19,
   "id": "4f2d574f-eb9d-447b-9f44-ded72df2901f",
   "metadata": {},
   "outputs": [
    {
     "name": "stdout",
     "output_type": "stream",
     "text": [
      "Accuracy: 0.9090909090909091\n",
      "Precision: 0.8823529411764706\n",
      "Recall: 0.989010989010989\n",
      "F1 Score: 0.9326424870466321\n"
     ]
    },
    {
     "data": {
      "text/plain": [
       "(0.9090909090909091, 0.8823529411764706, 0.989010989010989, 0.9326424870466321)"
      ]
     },
     "execution_count": 19,
     "metadata": {},
     "output_type": "execute_result"
    }
   ],
   "source": [
    "model = svm.SVC()\n",
    "evaluate_model(model, X_train, X_test, y_train, y_test)"
   ]
  },
  {
   "cell_type": "markdown",
   "id": "e6c60571-8742-4a1c-a4a1-e773fa94acf1",
   "metadata": {},
   "source": [
    "# The primary challenge may not stem from the choice of classification model, but rather from the size of the dataset."
   ]
  }
 ],
 "metadata": {
  "kernelspec": {
   "display_name": "Python 3 (ipykernel)",
   "language": "python",
   "name": "python3"
  },
  "language_info": {
   "codemirror_mode": {
    "name": "ipython",
    "version": 3
   },
   "file_extension": ".py",
   "mimetype": "text/x-python",
   "name": "python",
   "nbconvert_exporter": "python",
   "pygments_lexer": "ipython3",
   "version": "3.12.1"
  }
 },
 "nbformat": 4,
 "nbformat_minor": 5
}
